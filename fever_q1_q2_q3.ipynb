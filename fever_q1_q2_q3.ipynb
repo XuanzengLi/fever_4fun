{
 "cells": [
  {
   "cell_type": "code",
   "execution_count": 1,
   "metadata": {},
   "outputs": [],
   "source": [
    "import json_lines\n",
    "import re\n",
    "import seaborn as sns\n",
    "import matplotlib.pyplot as plt\n",
    "import os\n",
    "from collections import Counter\n",
    "import string\n",
    "import math\n",
    "import pickle\n",
    "\n",
    "import numpy as np\n",
    "import pandas as pd"
   ]
  },
  {
   "cell_type": "markdown",
   "metadata": {},
   "source": [
    "#Question 1"
   ]
  },
  {
   "cell_type": "code",
   "execution_count": 9,
   "metadata": {},
   "outputs": [],
   "source": [
    "#109 wiki pages\n",
    "#5416537 documents in wiki pages \n",
    "#type(documents) == list\n",
    "#type(documents[0]) == dict\n",
    "def load_wiki_docs():\n",
    "    documents = []\n",
    "    iterator_doc = 1\n",
    "    iterator_text = 1\n",
    "    for doc in os.listdir(\"./wiki-pages\"):\n",
    "        print(\"loading \",iterator_doc, \"page/109 pages\", end='\\r')\n",
    "        with json_lines.open('./wiki-pages/' + doc) as f:\n",
    "            for item in f:\n",
    "                documents.append(item)\n",
    "                iterator_text +=1\n",
    "        iterator_doc += 1\n",
    "    print(\"successfully loaded wiki pages!\")\n",
    "    return documents\n",
    "\n",
    "def calculate_term_frequency_wiki_docs(documents):\n",
    "    term_frequency_wiki_documents = Counter()\n",
    "    iterator_doc = 0\n",
    "    for document in documents:\n",
    "        term_frequency_wiki_documents.update(document['text'].lower()\n",
    "            .translate(str.maketrans('','',string.punctuation)).split()) \n",
    "        if iterator_doc % 10000 == 0:\n",
    "            print(\"calculate total word counts: \"\n",
    "                  ,\"%.2f\" % (iterator_doc/5416537 * 100)\n",
    "                  , \"% completed\", end='\\r')\n",
    "        iterator_doc += 1\n",
    "    print(\"calculation of word counts in wiki documents completed!\")\n",
    "    return term_frequency_wiki_documents\n",
    "\n",
    "def verify_zip_law(term_frequency_wiki_documents):\n",
    "    word_counts_zip_law = list(term_frequency_wiki_documents.values())\n",
    "    word_counts_zip_law.sort(reverse = True)\n",
    "    return word_counts_zip_law"
   ]
  },
  {
   "cell_type": "markdown",
   "metadata": {},
   "source": [
    "Question2"
   ]
  },
  {
   "cell_type": "code",
   "execution_count": 10,
   "metadata": {},
   "outputs": [],
   "source": [
    "def get_word_list(term_frequency_wiki_documents):\n",
    "    return list(dict(term_frequency_wiki_documents).keys())\n",
    "\n",
    "def calculate_doc_frequency(documents, word_list):\n",
    "    df_dict = dict.fromkeys(word_list,0)\n",
    "    iterator_doc = 0\n",
    "    for document in documents:\n",
    "        words_in_doc = document['text'].lower().translate(str.maketrans('','',string.punctuation)).split()\n",
    "        if iterator_doc % 10000 == 0:\n",
    "            print(\"calculate document frequency: \"\n",
    "                  , \"%.2f\" % (iterator_doc/5416537 * 100)\n",
    "                  ,\"% completed\", end='\\r')\n",
    "        iterator_doc += 1\n",
    "        for word in set(words_in_doc):\n",
    "            df_dict[word] += 1\n",
    "    print(\"calculation of document frequency in wiki documents completed!\")    \n",
    "    return df_dict\n",
    "\n",
    "def calculate_term_frequency(text_string, word_list):\n",
    "    tf_dict = dict.fromkeys(word_list,0)\n",
    "    words_in_text = text_string.lower().translate(str.maketrans('','',string.punctuation)).split()\n",
    "    for word in words_in_text:\n",
    "        tf_dict[word] += 1\n",
    "    return tf_dict\n",
    "\n",
    "def load_training_datasets():\n",
    "    claim_id_list = [75397, 150448, 214861, 156709, 129629, 33078, 6744, 226034, 40190, 76253]\n",
    "    train_raw_dataset = []\n",
    "    claims_for_q2 = []\n",
    "    with open('./train.jsonl') as f:\n",
    "        print(\"loading training dataset\")\n",
    "        for train in json_lines.reader(f):\n",
    "            train_raw_dataset.append(train)\n",
    "            if train['id'] in claim_id_list:\n",
    "                claims_for_q2.append(train)\n",
    "    return train_raw_dataset, claims_for_q2\n",
    "\n",
    "def calculate_tf_wiki_documents(documents):\n",
    "    tf_wiki_docs = []\n",
    "    iterator_doc = 0\n",
    "    for document in documents:\n",
    "        tf_wiki_doc = dict()\n",
    "        tf_wiki_doc['id'] = document['id']\n",
    "        term_frequency_wiki_document = Counter()\n",
    "        term_frequency_wiki_document.update(document['text'].lower()\n",
    "            .translate(str.maketrans('','',string.punctuation)).split()) \n",
    "        tf_wiki_doc['tf'] = dict(term_frequency_wiki_document)\n",
    "        tf_wiki_docs.append(tf_wiki_doc)\n",
    "        if iterator_doc % 10000 == 0:\n",
    "            print(\"calculate term frequency for wiki docs: \"\n",
    "                  , \"%.2f\" % (iterator_doc/5416537 * 100)\n",
    "                  ,\"% completed\", end='\\r')\n",
    "        iterator_doc += 1\n",
    "    print(\"calculation of term frequency in wiki documents completed!\")    \n",
    "    return tf_wiki_docs\n",
    "\n",
    "def calculate_tf_claims(claims):\n",
    "    tf_claims = []\n",
    "    iterator_doc = 0\n",
    "    for claim in claims:\n",
    "        tf_claim = dict()\n",
    "        tf_claim['id'] = claim['id']\n",
    "        term_frequency_claim = Counter()\n",
    "        term_frequency_claim.update(claim['claim'].lower()\n",
    "            .translate(str.maketrans('','',string.punctuation)).split())\n",
    "        tf_claim['tf'] = dict(term_frequency_claim)\n",
    "        tf_claims.append(tf_claim)\n",
    "        print(\"calculate term frequency for claims: \"\n",
    "                  , \"%.2f\" % (iterator_doc)\n",
    "                  ,\" completed\", end='\\r')\n",
    "        iterator_doc += 1\n",
    "    print(\"calculation of term frequency in claims completed!\")    \n",
    "    return tf_claims\n",
    "\n",
    "def calculate_tfidf_wiki_docs(tf_wiki_docs,df_dict):\n",
    "    tfidf_wiki_docs = []\n",
    "    iterator_doc = 0\n",
    "    for tf_wiki_doc in tf_wiki_docs:\n",
    "        tfidf_wiki_doc = dict()\n",
    "        tfidf_wiki_doc['id'] = tf_wiki_doc['id']\n",
    "        tfidf_wiki_doc['tf'] = dict()\n",
    "        for word in tf_wiki_doc['tf'].keys():\n",
    "            tfidf_wiki_doc['tf'][word] = tf_wiki_doc['tf'][word]/df_dict[word]\n",
    "        tfidf_wiki_docs.append(tfidf_wiki_doc)\n",
    "        if iterator_doc % 10000 == 0:\n",
    "            print(\"calculate tf-idf for wiki docs: \"\n",
    "                  , \"%.2f\" % (iterator_doc/5416537 * 100)\n",
    "                  ,\"% completed\", end='\\r')\n",
    "        iterator_doc += 1\n",
    "    print(\"calculation of tfidf in wiki documents completed!\")\n",
    "    return tfidf_wiki_docs\n",
    "\n",
    "def calculate_tfidf_claims(tf_train_claims,df_dict):\n",
    "    tfidf_train_claims = []\n",
    "    iterator_doc = 0\n",
    "    for tf_train_claim in tf_train_claims:\n",
    "        tfidf_train_claim = dict()\n",
    "        tfidf_train_claim['id'] = tf_train_claim['id']\n",
    "        tfidf_train_claim['tf'] = dict()\n",
    "        for word in tf_train_claim['tf'].keys():\n",
    "            tfidf_train_claim['tf'][word] = tf_train_claim['tf'][word]/df_dict[word]\n",
    "        tfidf_train_claims.append(tfidf_train_claim)\n",
    "        \n",
    "        print(\"calculate tf-idf for training claims: \"\n",
    "                  , \"%.2f\" % (iterator_doc)\n",
    "                  ,\" completed\", end='\\r')\n",
    "        iterator_doc += 1\n",
    "    print(\"calculation of tfidf in claims completed!\")\n",
    "    return tfidf_train_claims\n",
    "\n",
    "def calculate_cosine_similarity(dict1,dict2):\n",
    "    numerator = 0\n",
    "    for word_in_both in dict1.keys() & dict2.keys():\n",
    "        numerator += dict1[word_in_both] * dict2[word_in_both]\n",
    "    dict1_vector = np.array(list(dict1.values()))\n",
    "    dict2_vector =  np.array(list(dict2.values()))\n",
    "    denominator = np.linalg.norm(dict1_vector) * np.linalg.norm(dict2_vector)\n",
    "    return numerator / denominator\n",
    "\n",
    "def calculate_top5(tfidf_train_claims, tfidf_wiki_docs):\n",
    "    top5_for_claims = dict()\n",
    "    claim_iterator = 0\n",
    "    for tfidf_train_claim in tfidf_train_claims:\n",
    "        print(\"calculating claim: \",claim_iterator)\n",
    "        claim_iterator += 1\n",
    "        \n",
    "        top5_for_claim = dict()\n",
    "        for tfidf_wiki_doc in tfidf_wiki_docs[0:5]:\n",
    "            iterator_doc = 0\n",
    "            top5_for_claim[tfidf_wiki_doc['id']] = calculate_cosine_similarity(tfidf_train_claim['tf'],tfidf_wiki_doc['tf'])\n",
    "        min_value_key = min(top5_for_claim, key=top5_for_claim.get)\n",
    "        min_value = top5_for_claim[min_value_key]\n",
    "        for tfidf_wiki_doc in tfidf_wiki_docs[5:]:\n",
    "            cos_sim = calculate_cosine_similarity(tfidf_train_claim['tf'],tfidf_wiki_doc['tf'])\n",
    "            if cos_sim > min_value:\n",
    "                del top5_for_claim[min_value_key]\n",
    "                top5_for_claim[tfidf_wiki_doc['id']] = cos_sim\n",
    "                min_value_key = min(top5_for_claim, key=top5_for_claim.get)\n",
    "                min_value = top5_for_claim[min_value_key]\n",
    "            if iterator_doc % 10000 == 0:\n",
    "                print(\"calculate cosine similarity between wiki docs and \", claim_iterator, \"th claim\"\n",
    "                  , \"%.2f\" % (iterator_doc/5416537 * 100)\n",
    "                  ,\"% completed\", end='\\r')\n",
    "            iterator_doc += 1\n",
    "        top5_for_claims[tfidf_train_claim['id']] = top5_for_claim\n",
    "    return top5_for_claims\n",
    "\n"
   ]
  },
  {
   "cell_type": "code",
   "execution_count": 4,
   "metadata": {
    "collapsed": true
   },
   "outputs": [
    {
     "name": "stdout",
     "output_type": "stream",
     "text": [
      "successfully loaded wiki pages!\n",
      "calculation of word counts in wiki documents completed!\n"
     ]
    },
    {
     "data": {
      "text/plain": [
       "[<matplotlib.lines.Line2D at 0x1b23922390>]"
      ]
     },
     "execution_count": 4,
     "metadata": {},
     "output_type": "execute_result"
    },
    {
     "data": {
      "image/png": "[encoded data removed]",
      "text/plain": [
       "<Figure size 432x288 with 1 Axes>"
      ]
     },
     "metadata": {
      "needs_background": "light"
     },
     "output_type": "display_data"
    }
   ],
   "source": [
    "#main() for q1\n",
    "documents = load_wiki_docs()   \n",
    "term_frequency_wiki_documents = calculate_term_frequency_wiki_docs(documents)    \n",
    "word_counts_zip_law = verify_zip_law(term_frequency_wiki_documents)\n",
    "plt.plot(word_counts_zip_law)"
   ]
  },
  {
   "cell_type": "code",
   "execution_count": 41,
   "metadata": {},
   "outputs": [
    {
     "name": "stdout",
     "output_type": "stream",
     "text": [
      "calculation of document frequency in wiki documents completed!\n",
      "loading training dataset\n"
     ]
    }
   ],
   "source": [
    "word_list = get_word_list(term_frequency_wiki_documents)\n",
    "df_dict = calculate_doc_frequency(documents,word_list)\n",
    "train_raw_dataset, claims_for_q2 = load_training_datasets()\n",
    "tf_train_claims = calculate_tf_claims(claims_for_q2, word_list)\n",
    "tf_wiki_docs = calculate_tf_wiki_documents(documents, word_list)\n",
    "del documents\n",
    "del term_frequency_wiki_documents\n",
    "del word_counts_zip_law\n",
    "del claims_for_q2\n",
    "del train_raw_dataset\n",
    "del word_list\n",
    "gc.collect()\n",
    "tfidf_train_claims = calculate_tfidf_claims(tf_train_claims,df_dict)\n",
    "tfidf_wiki_docs = calculate_tfidf_wiki_docs(tf_wiki_docs,df_dict)\n",
    "del tf_train_claims\n",
    "del tf_wiki_docs\n",
    "gc.collect()\n",
    "top5_docs_for_claims = calculate_top5(tfidf_train_claims, tfidf_wiki_docs)"
   ]
  },
  {
   "cell_type": "markdown",
   "metadata": {},
   "source": [
    "#Question3"
   ]
  },
  {
   "cell_type": "code",
   "execution_count": 72,
   "metadata": {},
   "outputs": [],
   "source": [
    "def laplace_smoothing(word, document_unique_word_count, document_word_count, document, document_words):\n",
    "    if word not in document_words:\n",
    "        document[word] = 0\n",
    "    return (document[word] + 1)/(document_unique_word_count + document_word_count)\n",
    "\n",
    "\n",
    "def calculate_query_likelihood(query, document, smoothing_type):\n",
    "    query_likelihood = 1\n",
    "    if smoothing_type == \"laplace\":\n",
    "        document_words = document.keys()\n",
    "        document_unique_word_count = len(document_words)\n",
    "        document_word_count = sum(document.values())\n",
    "        for word in query:\n",
    "            query_likelihood *= laplace_smoothing(word, document_unique_word_count, document_word_count\n",
    "                                                  , document, document_words)\n",
    "#     elif smoothing_type == \"jm\":\n",
    "#         break\n",
    "#     elif smoothing_type == \"dirichlet\":\n",
    "#         break\n",
    "    return query_likelihood\n",
    "\n",
    "def calculate_top5_prob(claims_for_q2, tf_wiki_docs, smoothing_type):  \n",
    "    top5_for_claims_prob = dict()\n",
    "    claim_iterator = 0\n",
    "    for claim in claims_for_q2:\n",
    "        claim_iterator += 1\n",
    "        query = claim['claim'].lower().translate(str.maketrans('','',string.punctuation)).split()\n",
    "        top5_for_claim_prob = dict()\n",
    "        for tf_wiki_doc in tf_wiki_docs[0:5]:\n",
    "            iterator_doc = 0\n",
    "            document = tf_wiki_doc['tf']\n",
    "            top5_for_claim_prob[tf_wiki_doc['id']] = calculate_query_likelihood(query, document, smoothing_type)\n",
    "        min_value_key = min(top5_for_claim_prob, key=top5_for_claim_prob.get)\n",
    "        min_value = top5_for_claim_prob[min_value_key]\n",
    "        max_vk = max(top5_for_claim_prob, key=top5_for_claim_prob.get)\n",
    "        max_v = top5_for_claim_prob[max_vk]\n",
    "        print(\"startmax\", claim['id'], max_v)\n",
    "        print(\"startmin\", claim['id'], min_value)\n",
    "        for tf_wiki_doc in tf_wiki_docs[5:]:\n",
    "            document = tf_wiki_doc['tf']\n",
    "            query_likelihood = calculate_query_likelihood(query, document, smoothing_type)\n",
    "            if query_likelihood > min_value:\n",
    "                del top5_for_claim_prob[min_value_key]\n",
    "                top5_for_claim_prob[tf_wiki_doc['id']] = query_likelihood\n",
    "                min_value_key = min(top5_for_claim_prob, key=top5_for_claim_prob.get)\n",
    "                min_value = top5_for_claim_prob[min_value_key]\n",
    "                max_vk = max(top5_for_claim_prob, key=top5_for_claim_prob.get)\n",
    "                max_v = top5_for_claim_prob[max_vk]\n",
    "            if iterator_doc % 10000 == 0:\n",
    "                print(\"calculate query likelihood between wiki docs and \", claim_iterator, \"th claim\"\n",
    "                  , \"%.2f\" % (iterator_doc/5416537 * 100)\n",
    "                  ,\"% completed\", end='\\r')\n",
    "            iterator_doc += 1\n",
    "        top5_for_claims_prob[claim['id']] = top5_for_claim_prob\n",
    "    return top5_for_claims_prob"
   ]
  },
  {
   "cell_type": "code",
   "execution_count": 20,
   "metadata": {
    "collapsed": true
   },
   "outputs": [
    {
     "name": "stdout",
     "output_type": "stream",
     "text": [
      "successfully loaded wiki pages!\n",
      "calculation of word counts in wiki documents completed!\n",
      "loading training dataset\n",
      "calculation of term frequency in wiki documents completed!\n"
     ]
    },
    {
     "ename": "NameError",
     "evalue": "name 'calculate_top5_prob' is not defined",
     "output_type": "error",
     "traceback": [
      "\u001b[0;31m---------------------------------------------------------------------------\u001b[0m",
      "\u001b[0;31mNameError\u001b[0m                                 Traceback (most recent call last)",
      "\u001b[0;32m<ipython-input-20-bc1a04b14fd9>\u001b[0m in \u001b[0;36m<module>\u001b[0;34m\u001b[0m\n\u001b[1;32m      5\u001b[0m \u001b[0mtrain_raw_dataset\u001b[0m\u001b[0;34m,\u001b[0m \u001b[0mclaims_for_q2\u001b[0m \u001b[0;34m=\u001b[0m \u001b[0mload_training_datasets\u001b[0m\u001b[0;34m(\u001b[0m\u001b[0;34m)\u001b[0m\u001b[0;34m\u001b[0m\u001b[0;34m\u001b[0m\u001b[0m\n\u001b[1;32m      6\u001b[0m \u001b[0mtf_wiki_docs\u001b[0m \u001b[0;34m=\u001b[0m \u001b[0mcalculate_tf_wiki_documents\u001b[0m\u001b[0;34m(\u001b[0m\u001b[0mdocuments\u001b[0m\u001b[0;34m,\u001b[0m \u001b[0mword_list\u001b[0m\u001b[0;34m)\u001b[0m\u001b[0;34m\u001b[0m\u001b[0;34m\u001b[0m\u001b[0m\n\u001b[0;32m----> 7\u001b[0;31m \u001b[0mtop5_docs_for_claims_prob\u001b[0m \u001b[0;34m=\u001b[0m \u001b[0mcalculate_top5_prob\u001b[0m\u001b[0;34m(\u001b[0m\u001b[0mclaims_for_q2\u001b[0m\u001b[0;34m,\u001b[0m \u001b[0mtf_wiki_docs\u001b[0m\u001b[0;34m,\u001b[0m \u001b[0;34m\"laplace\"\u001b[0m\u001b[0;34m)\u001b[0m\u001b[0;34m\u001b[0m\u001b[0;34m\u001b[0m\u001b[0m\n\u001b[0m",
      "\u001b[0;31mNameError\u001b[0m: name 'calculate_top5_prob' is not defined"
     ]
    }
   ],
   "source": [
    "documents = load_wiki_docs()\n",
    "train_raw_dataset, claims_for_q2 = load_training_datasets()\n",
    "tf_wiki_docs = calculate_tf_wiki_documents(documents)\n",
    "top5_docs_for_claims_prob = calculate_top5_prob(claims_for_q2, tf_wiki_docs, \"laplace\")\n",
    "# to do: other 2 smoothing "
   ]
  }
 ],
 "metadata": {
  "kernelspec": {
   "display_name": "Python 3",
   "language": "python",
   "name": "python3"
  },
  "language_info": {
   "codemirror_mode": {
    "name": "ipython",
    "version": 3
   },
   "file_extension": ".py",
   "mimetype": "text/x-python",
   "name": "python",
   "nbconvert_exporter": "python",
   "pygments_lexer": "ipython3",
   "version": "3.7.1"
  }
 },
 "nbformat": 4,
 "nbformat_minor": 2
}
